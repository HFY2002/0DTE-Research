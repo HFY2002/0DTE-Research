{
 "cells": [
  {
   "cell_type": "code",
   "execution_count": null,
   "metadata": {},
   "outputs": [],
   "source": [
    "#Task 1\n",
    "#Given 3 parameters of degrees_of_freedom, mean, scale of a student-t-distribution for % change in price as well as current atm_price:\n",
    "#Construct student-t distribution for price of underlying asset: that is, return the degrees_of_freedom, mean, scale for distribution for final underlying assset price\n",
    "\n",
    "#E.g. If I gave you a gaussian distribution for % change in price with mean = 0, std = 2, and the current atm_price = 200\n",
    "#Then: you should give me distribution for price of underlying asset, and it should look like:\n",
    "#Mean: 200, std = 4 (In gaussian, if std of %change is 2%, then std of final change is 200*2% = 4. Check if this holds true for student-t as well)\n",
    "\n",
    "#fill in\n",
    "def create_t_distribution(degrees_of_freedom, mean, scale, atm):\n",
    "    new_degrees_of_freedom, new_mean, new_scale = 0,0,0\n",
    "    return new_degrees_of_freedom, new_mean, new_scale"
   ]
  },
  {
   "cell_type": "code",
   "execution_count": null,
   "metadata": {},
   "outputs": [],
   "source": [
    "def payoff(x):\n",
    "    return 2*x\n",
    "#Task 2\n",
    "#Given student-t probability distribution for final underlying assset price\n",
    "#Given function payoff that takes off, testing code given above\n",
    "\n",
    "#return the expected value of distribution/expected profits\n",
    "def calculate_EV(new_degrees_of_freedom, new_mean, new_scale, payoff):\n",
    "    EV = 0\n",
    "    return EV"
   ]
  }
 ],
 "metadata": {
  "language_info": {
   "name": "python"
  }
 },
 "nbformat": 4,
 "nbformat_minor": 2
}

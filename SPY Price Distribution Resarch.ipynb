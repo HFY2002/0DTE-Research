{
 "cells": [
  {
   "cell_type": "code",
   "execution_count": null,
   "metadata": {
    "vscode": {
     "languageId": "plaintext"
    }
   },
   "outputs": [],
   "source": [
    "qb = QuantBook()\n",
    "spy = qb.AddEquity(\"SPY\")\n",
    "\n",
    "# Define the date ranges\n",
    "date_ranges = [\n",
    "    (datetime(2000, 1, 1), datetime(2022, 4, 30)),\n",
    "    (datetime(2022, 11, 1), datetime(2023, 7, 1)),\n",
    "    (datetime(2024, 4, 1), datetime(2024, 7, 9)),\n",
    "    (datetime(2024, 8, 21), datetime(2024, 12, 9))\n",
    "]\n",
    "\n",
    "# Retrieve and concatenate histories\n",
    "histories = []\n",
    "for start, end in date_ranges:\n",
    "    history = qb.History(\n",
    "        spy.Symbol,\n",
    "        start=start,\n",
    "        end=end,\n",
    "        resolution=Resolution.Hour,\n",
    "        extendedMarketHours=False\n",
    "    )\n",
    "    # Filter data to regular market hours\n",
    "    history = history.loc[spy.Symbol].between_time('09:30', '16:00')\n",
    "    histories.append(history)\n",
    "\n",
    "# Concatenate all histories\n",
    "combined_history = pd.concat(histories)\n",
    "\n",
    "import pandas as pd\n",
    "from scipy.stats import t\n",
    "\n",
    "# Initialize an empty dictionary to store results\n",
    "fitted_params_by_hour = {}\n",
    "\n",
    "# Loop through each hour from 10 to 16\n",
    "for hour in range(10, 17):\n",
    "    # Format the time string for filtering\n",
    "    time_str = f'{hour:02}:00'\n",
    "    \n",
    "    # Filter data for the given hour\n",
    "    data_hour_open = history.between_time(time_str, time_str)['open']\n",
    "    data_hour_close = history.between_time('16:00', '16:00')['close']\n",
    "    \n",
    "    # Use only the date part of the index\n",
    "    data_hour_open.index = data_hour_open.index.date\n",
    "    data_hour_close.index = data_hour_close.index.date\n",
    "    \n",
    "    # Combine the open and close data\n",
    "    combined_data = pd.concat([data_hour_open, data_hour_close], axis=1)\n",
    "    combined_data = combined_data.dropna()\n",
    "    \n",
    "    # Calculate percent change\n",
    "    combined_data['percent_change'] = ((combined_data['close'] - combined_data['open']) / combined_data['open'])\n",
    "    \n",
    "    # Extract percent change values\n",
    "    percent_changes = combined_data['percent_change']\n",
    "    \n",
    "    # Fit a Student's t-distribution to the percent changes\n",
    "    fitted_params = t.fit(percent_changes)\n",
    "    \n",
    "    # Store the fitted parameters in the dictionary\n",
    "    fitted_params_by_hour[hour] = fitted_params\n",
    "\n",
    "# Print the fitted parameters for each hour in the desired format\n",
    "for hour, params in fitted_params_by_hour.items():\n",
    "    print(f\"{hour-1}: ({params[0]}, {params[1]}, {params[2]}),\")"
   ]
  }
 ],
 "metadata": {
  "language_info": {
   "name": "python"
  }
 },
 "nbformat": 4,
 "nbformat_minor": 2
}
